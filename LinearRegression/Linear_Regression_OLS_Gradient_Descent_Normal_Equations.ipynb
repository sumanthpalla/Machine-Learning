{
  "cells": [
    {
      "cell_type": "code",
      "execution_count": null,
      "metadata": {
        "id": "iPGUnyqgGJyc"
      },
      "outputs": [],
      "source": [
        "# This notebook is done as per my understanding of Lecture 4 of CS229, 2019\n",
        "\n",
        "#import libraries\n",
        "import numpy as np # for matrices and vectors\n",
        "import matplotlib.pyplot as plt # for plots and figures\n",
        "\n",
        "%matplotlib inline\n"
      ]
    },
    {
      "cell_type": "markdown",
      "metadata": {
        "id": "JaPYYKOBQlzH"
      },
      "source": [
        "### Linear Regression:\n",
        "\n",
        "Given any training data, the goal of Machine Learning is to learn a hypothesis using an learning algorithm such that, $h_{\\theta}(X) \\approx y$.\n",
        "\n",
        "Linear Regression is a subset of family of hypotheses such that the hypothesis function is defined by $h_{\\theta}(X) = X\\theta$\n",
        "\n",
        "#### Defining Hypotheses:\n",
        "\n",
        "Given, $X \\in \\mathbb{R}^{n \\times (d+1)} , y \\in \\mathbb{R} ^ n$, the hypothesis function is given by,\n",
        "\n",
        "$$ h_{\\theta}(X) = X\\theta \\\\ X \\in \\mathbb{R}^{n \\times (d+1)} \\\\ y \\in \\mathbb{R}^{n}$$\n",
        "\n",
        "### Parameters:\n",
        "\n",
        "$$\\theta \\in \\mathbb{R}^{d+1}$$\n",
        "\n",
        "### Loss Function for best fit:\n",
        "$$ L(h_\\theta(X),y) = \\frac{1}{2}(h_\\theta(X)-y)^T(h_\\theta(X)-y)$$\n",
        "\n",
        "### Estimation of Parameters using MLE\n",
        "\n",
        "Machine Learning uses statistics to predict the parameters with given data and predicts the output variable by using the probability techniques.\n",
        "\n",
        "parameters at minimized loss function can be estimated by Maximum Likelihood function which goes in this way.\n",
        "\n",
        "\n",
        "The Loss function in cartesian form given by,\n",
        "\n",
        "$$\n",
        "L(y,\\hat{y}) = \\frac{1}{2n}\\sum\\limits_{i=1}^{n}(y-\\hat{y}_{i})^2\n",
        "= \\frac{1}{2n}(h_\\theta(X)-y)^T(h_\\theta(X)-y)$$\n",
        "where $\\hat{y}_i$ is the prediction for $x^{(i)}$\n"
      ]
    },
    {
      "cell_type": "code",
      "execution_count": null,
      "metadata": {
        "id": "UteLFI7IGl7J"
      },
      "outputs": [],
      "source": [
        "np.random.seed(42)\n",
        "n = 1000 # number of examples\n",
        "d = 50  # number of features\n",
        "\n",
        "X = np.abs(np.random.randn(n,d))\n",
        "y = np.abs(np.random.randn(n,1))\n",
        "\n",
        "\n",
        "#creation of design matrix\n",
        "x0 = np.ones((n,1),dtype=float)\n",
        "\n",
        "assert x0.shape == (n,1)\n",
        "\n",
        "assert X.shape == (n,d)\n",
        "\n",
        "X = np.hstack((x0,X))"
      ]
    },
    {
      "cell_type": "code",
      "execution_count": null,
      "metadata": {
        "colab": {
          "base_uri": "https://localhost:8080/"
        },
        "id": "kxNCADf2SVAS",
        "outputId": "e6f8291c-ded0-4643-dc4d-de27323c475d"
      },
      "outputs": [
        {
          "name": "stdout",
          "output_type": "stream",
          "text": [
            "(51, 1)\n"
          ]
        }
      ],
      "source": [
        "theta = np.random.randn(d,1)\n",
        "theta = np.vstack((np.zeros((1,1),dtype=float),theta))\n",
        "print(theta.shape)"
      ]
    },
    {
      "cell_type": "code",
      "execution_count": null,
      "metadata": {
        "colab": {
          "base_uri": "https://localhost:8080/"
        },
        "id": "MHancP3yS4LN",
        "outputId": "45521fce-e0c4-4e48-f0c0-57f5a6e49c1b"
      },
      "outputs": [
        {
          "name": "stdout",
          "output_type": "stream",
          "text": [
            "\n",
            "Design Matrix Shape: (1000, 51)\n",
            "Target Value Shape: (1000, 1)\n",
            "Parameters Shape: (51, 1)\n",
            "\n"
          ]
        }
      ],
      "source": [
        "print(f\"\"\"\n",
        "Design Matrix Shape: {X.shape}\n",
        "Target Value Shape: {y.shape}\n",
        "Parameters Shape: {theta.shape}\n",
        "\"\"\")"
      ]
    },
    {
      "cell_type": "code",
      "execution_count": null,
      "metadata": {
        "colab": {
          "base_uri": "https://localhost:8080/",
          "height": 482
        },
        "id": "qnrkC3VGS-lb",
        "outputId": "5220440b-16fe-4c9d-d02f-d9e398a5eb60"
      },
      "outputs": [
        {
          "data": {
            "text/plain": [
              "array([[0.163303]])"
            ]
          },
          "execution_count": 5,
          "metadata": {},
          "output_type": "execute_result"
        },
        {
          "data": {
            "image/png": "[encoded data removed]",
            "text/plain": [
              "<Figure size 640x480 with 1 Axes>"
            ]
          },
          "metadata": {},
          "output_type": "display_data"
        }
      ],
      "source": [
        "# After Defining Theta, X and y\n",
        "\n",
        "class LinearRegression:\n",
        "  def __init__(self,X,y,theta,num_iter,plot_loss = True):\n",
        "    \"\"\"\n",
        "    Constructor Function: Initializes all the functions\n",
        "\n",
        "    Arguments:\n",
        "\n",
        "    X: Design Matrix\n",
        "    y: Target / Output Vector\n",
        "    theta: parameter vector\n",
        "    num_iter: Number of Iterations\n",
        "    plot_loss: Default True, plots loss values\n",
        "\n",
        "    Also contains,\n",
        "\n",
        "    epsilon: convergence criteria of Gradient Descent\n",
        "    learning_rate: step length in Gradient Descent\n",
        "\n",
        "\n",
        "    \"\"\"\n",
        "    self.X = X\n",
        "    self.y = y\n",
        "    self.theta = theta\n",
        "    self.learning_rate = 0.05\n",
        "    self.num_iter = num_iter\n",
        "    self.epsilon = 1e-5\n",
        "  def compute_loss(self):\n",
        "    \"\"\"\n",
        "    Calculates the squared error with given X and y\n",
        "\n",
        "    \"\"\"\n",
        "    #Absolute Loss\n",
        "    abs_loss = np.dot(self.X,self.theta)-self.y\n",
        "    #Root Mean Squared Loss\n",
        "    squared_loss = (1/2*(self.X.shape[0]))*np.dot(abs_loss.T,abs_loss)\n",
        "    return np.squeeze(squared_loss)\n",
        "  def gradient_descent(self):\n",
        "    \"\"\"\n",
        "    Performs Gradient Descent Algorithm and updates the parameters\n",
        "    \"\"\"\n",
        "    loss = self.compute_loss()\n",
        "    n = self.X.shape[0]\n",
        "    loss_ = []\n",
        "    loss_.append(loss)\n",
        "    for i in range(1,self.num_iter):\n",
        "      #to assert the shapes\n",
        "      assert np.dot(self.X,self.theta).shape == y.shape\n",
        "      # computing the gradient\n",
        "      gradient = np.dot(self.X.T,(np.dot(self.X,self.theta)-y))\n",
        "      #updating the parameters in a direction of negative gradient, which tries to minimize loss\n",
        "      self.theta = self.theta - (self.learning_rate/n)*gradient\n",
        "      #computing loss with updated weight\n",
        "      loss = self.compute_loss()\n",
        "      #appending the loss to loss_ list, which can used to plot the loss curve during training\n",
        "      loss_.append(loss)\n",
        "    return loss_\n",
        "  def fit(self,x_test,sgd=False):\n",
        "    \"\"\"\n",
        "    Predict target value for a given input point in d+1 dimensional space\n",
        "    \"\"\"\n",
        "    if sgd:\n",
        "      loss_ = self.stochastic_gradient_descent()\n",
        "    loss_ = self.gradient_descent()\n",
        "    y_pred = np.dot(x_test.T,self.theta)\n",
        "    plt.plot(loss_)\n",
        "    plt.xlabel(\"Iterations\")\n",
        "    if sgd:\n",
        "      optimizer =  \"Stochastic Gradiet Descent\"\n",
        "    else:\n",
        "      optimizer = \"Gradient Descent\"\n",
        "    plt.ylabel(f\"Loss in {optimizer}\")\n",
        "    return y_pred\n",
        "    pass\n",
        "  def fit_normal(self,x_test):\n",
        "    \"\"\"\n",
        "    Predict parameters as per Normal Equation of parameters\n",
        "    \"\"\"\n",
        "    #computing (X^TX)^-1\n",
        "    inv_ = np.linalg.inv(np.dot(self.X.T,self.X))\n",
        "    self.theta = np.dot(inv_,np.dot(X.T,y))\n",
        "    y_pred = np.dot(x_test.T,self.theta)\n",
        "    return y_pred\n",
        "  def stochastic_gradient_descent(self):\n",
        "    n = self.X.shape[0]\n",
        "    loss_sgd = []\n",
        "    for _ in range(self.num_iter):\n",
        "      k = np.random.randint(0,n,1)\n",
        "      x_k = self.X[k].reshape(1,-1)\n",
        "      loss = (1/(2*n))*((np.dot(x_k,self.theta) - y[k])**2)\n",
        "      gradient = (np.dot(x_k,self.theta) - y[k])*(self.X[k])\n",
        "      self.theta = self.theta - (self.learning_rate/n)*(gradient.reshape(-1,1))\n",
        "      loss_sgd.append(np.squeeze(loss))\n",
        "    # print(loss_sgd[:5])\n",
        "    # plt.plot(loss_sgd)\n",
        "\n",
        "lin_reg = LinearRegression(X,y,theta,1000)\n",
        "np.random.seed(42)\n",
        "x_test = np.vstack((np.ones((1,1)),np.random.randn(d,1)))\n",
        "y_pred = lin_reg.fit(x_test)\n",
        "y_pred"
      ]
    },
    {
      "cell_type": "code",
      "execution_count": null,
      "metadata": {
        "colab": {
          "base_uri": "https://localhost:8080/"
        },
        "id": "wOoXru_IgiXg",
        "outputId": "136d7cca-1ef3-4948-aecd-3e1233cb61e0"
      },
      "outputs": [
        {
          "data": {
            "text/plain": [
              "array([[0.90899593]])"
            ]
          },
          "execution_count": 6,
          "metadata": {},
          "output_type": "execute_result"
        }
      ],
      "source": [
        "y_pred_normal = lin_reg.fit_normal(x_test)\n",
        "y_pred_normal"
      ]
    },
    {
      "cell_type": "code",
      "execution_count": null,
      "metadata": {
        "colab": {
          "base_uri": "https://localhost:8080/",
          "height": 466
        },
        "id": "rvGc-jZugtYm",
        "outputId": "141e730d-e3c3-48c4-8cce-be88549f5e97"
      },
      "outputs": [
        {
          "data": {
            "text/plain": [
              "array([[0.90886307]])"
            ]
          },
          "execution_count": 7,
          "metadata": {},
          "output_type": "execute_result"
        },
        {
          "data": {
            "image/png": "[encoded data removed]",
            "text/plain": [
              "<Figure size 640x480 with 1 Axes>"
            ]
          },
          "metadata": {},
          "output_type": "display_data"
        }
      ],
      "source": [
        "y_pred_sgd = lin_reg.fit(x_test,sgd = True)\n",
        "y_pred_sgd"
      ]
    },
    {
      "cell_type": "code",
      "execution_count": null,
      "metadata": {
        "colab": {
          "base_uri": "https://localhost:8080/"
        },
        "id": "2scLLb15vo8L",
        "outputId": "38b6da8b-25ba-454e-9aee-75997f19728e"
      },
      "outputs": [
        {
          "data": {
            "text/plain": [
              "(51, 1)"
            ]
          },
          "execution_count": 8,
          "metadata": {},
          "output_type": "execute_result"
        }
      ],
      "source": [
        "x_test.shape"
      ]
    },
    {
      "cell_type": "code",
      "execution_count": null,
      "metadata": {
        "colab": {
          "base_uri": "https://localhost:8080/"
        },
        "id": "zO3XA-SkxzPk",
        "outputId": "9373b394-94f1-4340-febe-c561e7140b0d"
      },
      "outputs": [
        {
          "data": {
            "text/plain": [
              "array([[0.90917969]])"
            ]
          },
          "execution_count": 9,
          "metadata": {},
          "output_type": "execute_result"
        }
      ],
      "source": [
        "# prediction using scikit-learn\n",
        "\n",
        "from sklearn.linear_model import LinearRegression\n",
        "\n",
        "lr = LinearRegression()\n",
        "lr.fit(X,y)\n",
        "y_pred_scikit_lr = lr.predict(x_test.T)\n",
        "y_pred_scikit_lr"
      ]
    }
  ],
  "metadata": {
    "colab": {
      "provenance": []
    },
    "kernelspec": {
      "display_name": "Python 3",
      "name": "python3"
    },
    "language_info": {
      "name": "python"
    }
  },
  "nbformat": 4,
  "nbformat_minor": 0
}
